{
 "cells": [
  {
   "cell_type": "code",
   "execution_count": 1,
   "id": "11561fec-82c5-4621-8051-06809f79c4e2",
   "metadata": {},
   "outputs": [
    {
     "data": {
      "text/plain": [
       "9223372036854775807"
      ]
     },
     "execution_count": 1,
     "metadata": {},
     "output_type": "execute_result"
    }
   ],
   "source": [
    "from decouple import Config, RepositoryEnv\n",
    "import pandas as pd\n",
    "import datetime\n",
    "import pytz\n",
    "\n",
    "import sys\n",
    "import csv\n",
    "import re\n",
    "\n",
    "import psycopg2 as pg\n",
    "\n",
    "from src.table_setup import *\n",
    "from src.table_populate import preprocess_text, fill_altnews, fill_legnews, fill_consp_label, fill_liwc_label, fill_4chan, fill_reddit, fill_twitter\n",
    "from src.file_utils import get_valid_filepaths, get_df, get_encoding, clean_table_cols, preprocess_text\n",
    "\n",
    "csv.field_size_limit(sys.maxsize)"
   ]
  },
  {
   "cell_type": "code",
   "execution_count": 2,
   "id": "98d473a2-c806-4c70-a444-907e4778ade7",
   "metadata": {},
   "outputs": [],
   "source": [
    "config = Config(RepositoryEnv('./.env'))\n",
    "HOST = config.get('REMOTE_HOST')\n",
    "UNAME = config.get('UNAME')\n",
    "PW = config.get('PASSWORD')\n",
    "DB_NAME = config.get('DB_NAME')\n",
    "BASE_PATH = config.get('BASE_PATH')"
   ]
  },
  {
   "cell_type": "code",
   "execution_count": 3,
   "id": "bac7a8f8-7f79-442e-b965-e26c24db7691",
   "metadata": {},
   "outputs": [],
   "source": [
    "# open connection and starting cursor to execute commands\n",
    "connection = pg.connect(host=HOST, port=5432, dbname=DB_NAME, user=UNAME, password=PW)\n",
    "cursor = connection.cursor()"
   ]
  },
  {
   "cell_type": "code",
   "execution_count": 4,
   "id": "502c8e37-8d3f-4a7a-8f9d-4456a418ea78",
   "metadata": {},
   "outputs": [],
   "source": [
    "# create tables in which to insert data\n",
    "create_tables(cursor, connection)"
   ]
  },
  {
   "cell_type": "code",
   "execution_count": 5,
   "id": "65b1637e-fc1e-4c96-a71c-7fd8cc01a56f",
   "metadata": {},
   "outputs": [
    {
     "name": "stdout",
     "output_type": "stream",
     "text": [
      "Error inserting Alternative News Content: null value in column \"date\" of relation \"content\" violates not-null constraint\n",
      "DETAIL:  Failing row contains (43923, null, null,  In aller Welt eingesetzte Lernunterlagen aus Kuba Am Donnerstag...,  In aller Welt eingesetzte Lernunterlagen aus Kuba Am Donnerstag..., Die Stadt des Lernens, alt_news, jungewelt, ger, 45137, null, 43923, 2024-07-25 15:53:38.616365, 2024-07-25 15:53:38.616365).\n",
      "\n"
     ]
    }
   ],
   "source": [
    "# add data\n",
    "fill_altnews(cursor, connection)"
   ]
  },
  {
   "cell_type": "code",
   "execution_count": 6,
   "id": "6a5fbefc-94cb-4d51-8620-3b52bf536e14",
   "metadata": {},
   "outputs": [],
   "source": [
    "fill_legnews(cursor, connection)"
   ]
  },
  {
   "cell_type": "code",
   "execution_count": null,
   "id": "e9a261ca-e395-495a-8780-d17208111ac3",
   "metadata": {},
   "outputs": [],
   "source": [
    "fill_4chan(cursor, connection)"
   ]
  },
  {
   "cell_type": "code",
   "execution_count": null,
   "id": "16cfd1d4-680f-4a6e-9b34-e00901d34833",
   "metadata": {},
   "outputs": [],
   "source": [
    "fill_reddit(cursor, connection)"
   ]
  },
  {
   "cell_type": "code",
   "execution_count": null,
   "id": "4b9c330a-6ab5-4aca-8ca4-37839548d0ac",
   "metadata": {},
   "outputs": [],
   "source": [
    "fill_twitter(cursor, connection)"
   ]
  },
  {
   "cell_type": "code",
   "execution_count": null,
   "id": "42f68744-2c45-4a1f-ae42-6011f801fffd",
   "metadata": {},
   "outputs": [],
   "source": [
    "# index specific columns for quicker reference"
   ]
  },
  {
   "cell_type": "code",
   "execution_count": null,
   "id": "7cbd23b4-fc63-4779-8913-d20b032fa642",
   "metadata": {},
   "outputs": [],
   "source": [
    "# close connection and cursor after adding all information\n",
    "connection.close()\n",
    "cursor.close()"
   ]
  }
 ],
 "metadata": {
  "kernelspec": {
   "display_name": "Python 3 (ipykernel)",
   "language": "python",
   "name": "python3"
  },
  "language_info": {
   "codemirror_mode": {
    "name": "ipython",
    "version": 3
   },
   "file_extension": ".py",
   "mimetype": "text/x-python",
   "name": "python",
   "nbconvert_exporter": "python",
   "pygments_lexer": "ipython3",
   "version": "3.11.9"
  }
 },
 "nbformat": 4,
 "nbformat_minor": 5
}
