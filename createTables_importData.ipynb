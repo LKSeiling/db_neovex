{
 "cells": [
  {
   "cell_type": "code",
   "execution_count": null,
   "id": "11561fec-82c5-4621-8051-06809f79c4e2",
   "metadata": {},
   "outputs": [],
   "source": [
    "from decouple import Config, RepositoryEnv\n",
    "import pandas as pd\n",
    "import datetime\n",
    "import pytz\n",
    "\n",
    "import sys\n",
    "import csv\n",
    "import re\n",
    "\n",
    "import psycopg2 as pg\n",
    "\n",
    "from src.table_setup import *\n",
    "from src.table_populate import preprocess_text, fill_altnews, fill_legnews, fill_consp_label, fill_liwc_label, fill_4chan, fill_reddit, fill_twitter\n",
    "from src.file_utils import get_valid_filepaths, get_df, get_encoding, clean_table_cols\n",
    "\n",
    "csv.field_size_limit(sys.maxsize)"
   ]
  },
  {
   "cell_type": "code",
   "execution_count": null,
   "id": "98d473a2-c806-4c70-a444-907e4778ade7",
   "metadata": {},
   "outputs": [],
   "source": [
    "config = Config(RepositoryEnv('./.env'))\n",
    "HOST = config.get('REMOTE_HOST')\n",
    "UNAME = config.get('UNAME')\n",
    "PW = config.get('PASSWORD')\n",
    "DB_NAME = config.get('DB_NAME')\n",
    "BASE_PATH = config.get('BASE_PATH')"
   ]
  },
  {
   "cell_type": "code",
   "execution_count": null,
   "id": "bac7a8f8-7f79-442e-b965-e26c24db7691",
   "metadata": {},
   "outputs": [],
   "source": [
    "# open connection and starting cursor to execute commands\n",
    "connection = pg.connect(host=HOST, port=5432, dbname=DB_NAME, user=UNAME, password=PW)\n",
    "cursor = connection.cursor()"
   ]
  },
  {
   "cell_type": "code",
   "execution_count": null,
   "id": "502c8e37-8d3f-4a7a-8f9d-4456a418ea78",
   "metadata": {},
   "outputs": [],
   "source": [
    "# create tables in which to insert data\n",
    "create_tables(cursor, connection)"
   ]
  },
  {
   "cell_type": "code",
   "execution_count": null,
   "id": "65b1637e-fc1e-4c96-a71c-7fd8cc01a56f",
   "metadata": {},
   "outputs": [],
   "source": [
    "# add data\n",
    "fill_altnews(cursor, connection)\n",
    "fill_legnews(cursor, connection)\n",
    "fill_4chan(cursor, connection)\n",
    "fill_reddit(cursor, connection)\n",
    "fill_twitter(cursor, connection)"
   ]
  },
  {
   "cell_type": "code",
   "execution_count": null,
   "id": "42f68744-2c45-4a1f-ae42-6011f801fffd",
   "metadata": {},
   "outputs": [],
   "source": [
    "# index specific columns for quicker reference"
   ]
  },
  {
   "cell_type": "code",
   "execution_count": null,
   "id": "7cbd23b4-fc63-4779-8913-d20b032fa642",
   "metadata": {},
   "outputs": [],
   "source": [
    "# close connection and cursor after adding all information\n",
    "connection.close()\n",
    "cursor.close()"
   ]
  }
 ],
 "metadata": {
  "kernelspec": {
   "display_name": "Python 3 (ipykernel)",
   "language": "python",
   "name": "python3"
  },
  "language_info": {
   "codemirror_mode": {
    "name": "ipython",
    "version": 3
   },
   "file_extension": ".py",
   "mimetype": "text/x-python",
   "name": "python",
   "nbconvert_exporter": "python",
   "pygments_lexer": "ipython3",
   "version": "3.10.10"
  }
 },
 "nbformat": 4,
 "nbformat_minor": 5
}
