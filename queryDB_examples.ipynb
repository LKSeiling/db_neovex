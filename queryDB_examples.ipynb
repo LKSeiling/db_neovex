{
 "cells": [
  {
   "cell_type": "code",
   "execution_count": null,
   "id": "0cdae1e2-a0fa-47dc-8de5-88e0e4dbce8d",
   "metadata": {},
   "outputs": [],
   "source": [
    "from decouple import Config, RepositoryEnv\n",
    "import psycopg2 as pg\n",
    "import pandas as pd"
   ]
  },
  {
   "cell_type": "code",
   "execution_count": null,
   "id": "9c89f1d6-2933-447f-abd8-5399a3ab9468",
   "metadata": {},
   "outputs": [],
   "source": [
    "config = Config(RepositoryEnv('./.env'))\n",
    "HOST = config.get('REMOTE_HOST')\n",
    "UNAME = config.get('UNAME')\n",
    "PW = config.get('PASSWORD')\n",
    "DB_NAME = config.get('DB_NAME')\n",
    "BASE_PATH = config.get('BASE_PATH')"
   ]
  },
  {
   "cell_type": "code",
   "execution_count": null,
   "id": "535a7760-ce47-456d-a35d-04cebdb7a1ad",
   "metadata": {},
   "outputs": [],
   "source": [
    "from src.query_neovex import get_query_wrapper"
   ]
  },
  {
   "cell_type": "code",
   "execution_count": null,
   "id": "f240ff83-8b8b-4494-8e37-436bd73fa5b4",
   "metadata": {},
   "outputs": [],
   "source": [
    "# EXAMPLE 1 : basic query\n",
    "# get all alternative and legacy news posts for august\n",
    "## OPTION 1: specify get_query_wrapper function\n",
    "NEOVEXwrapper11 = get_query_wrapper(platform=['alt_news', 'legacy_news'], daterange=('2020-08-01','2020-08-31'))\n",
    "NEOVEXwrapper11.execute_query()"
   ]
  },
  {
   "cell_type": "code",
   "execution_count": null,
   "id": "f3032c2b-1697-419b-9320-eb79761a4480",
   "metadata": {},
   "outputs": [],
   "source": [
    "## OPTION 2: specify using 'set_' methods\n",
    "NEOVEXwrapper12 = get_query_wrapper()\n",
    "NEOVEXwrapper12.set_platform(['alt_news', 'legacy_news'])\n",
    "NEOVEXwrapper12.set_daterange('2020-08-01','2020-08-31')\n",
    "NEOVEXwrapper12.execute_query()"
   ]
  },
  {
   "cell_type": "code",
   "execution_count": null,
   "id": "c9a12411-0bee-4d32-86c6-e128db78d4b7",
   "metadata": {},
   "outputs": [],
   "source": [
    "# EXAMPLE 2: aggregate query\n",
    "# EXAMPLE 2.1 : get post counts per platform\n",
    "NEOVEXwrapper2 = get_query_wrapper()\n",
    "dat21 = NEOVEXwrapper2.sum_rows(group_by=\"platform\")\n",
    "# EXAMPLE 2.2 : get post counts per platform and date\n",
    "dat22 = NEOVEXwrapper2.sum_rows(group_by=[\"platform\",\"date\"])"
   ]
  },
  {
   "cell_type": "code",
   "execution_count": null,
   "id": "dafab4e1-3035-4ea1-b3a3-a3d7e9f45a97",
   "metadata": {},
   "outputs": [],
   "source": [
    "# EXAMPLE 3: specialised queries\n",
    "# EXAMPLE 3.1 : text search\n",
    "# EXAMPLE 3.1.1 : full text search\n",
    "NEOVEXwrapper311 = get_query_wrapper()\n",
    "NEOVEXwrapper311.set_string_match(match_string=\"Lizard\") # setting case_sensitivity to True will yield only results where the casing matches\n",
    "NEOVEXwrapper311.execute_query()"
   ]
  },
  {
   "cell_type": "code",
   "execution_count": null,
   "id": "28f95f4f-5486-43dd-8ea3-03f0807c5f90",
   "metadata": {},
   "outputs": [],
   "source": [
    "# EXAMPLE 3.1.2 : specified text search\n",
    "NEOVEXwrapper312 = get_query_wrapper()\n",
    "NEOVEXwrapper312.set_string_match(match_string=\"Chaos\")\n",
    "NEOVEXwrapper312.set_search_text(search_text=\"title\")\n",
    "# NEOVEXwrapper312.set_case_sensitivity(case_sensitivity=True) # setting case_sensitivity to True will yield only results where the casing matches\n",
    "NEOVEXwrapper312.execute_query()"
   ]
  },
  {
   "cell_type": "code",
   "execution_count": null,
   "id": "0622ed1b-cc7c-45d1-b7ee-77bf4155969a",
   "metadata": {},
   "outputs": [],
   "source": [
    "# EXAMPLE 3.2 : author search\n",
    "NEOVEXwrapper32 = get_query_wrapper()\n",
    "NEOVEXwrapper32.set_author(author=\"juanlee337\")\n",
    "NEOVEXwrapper32.execute_query()"
   ]
  },
  {
   "cell_type": "code",
   "execution_count": null,
   "id": "e9690d0a-fffe-4598-81c7-f613428a81e9",
   "metadata": {},
   "outputs": [],
   "source": [
    "# EXAMPLE 3.3 : label exclusion / inclusion\n",
    "# EXAMPLE 3.3.1 : include only posts which have been labelled \"LIWC\"\n",
    "NEOVEXwrapper331 = get_query_wrapper()\n",
    "NEOVEXwrapper331.set_label_inclusion(labels=[\"liwc\"])\n",
    "NEOVEXwrapper331.execute_query()"
   ]
  },
  {
   "cell_type": "code",
   "execution_count": null,
   "id": "95264443-c6db-4b15-8754-d5fc14bc6c35",
   "metadata": {},
   "outputs": [],
   "source": [
    "# EXAMPLE 3.3.2 : exclude all posts which have been labelled \"CONSP\"\n",
    "NEOVEXwrapper332 = get_query_wrapper()\n",
    "NEOVEXwrapper332.set_label_exclusion(labels=[\"consp\"])\n",
    "NEOVEXwrapper332.execute_query()"
   ]
  },
  {
   "cell_type": "code",
   "execution_count": null,
   "id": "dcae51f4-c76f-4880-9e31-0e582c046339",
   "metadata": {},
   "outputs": [],
   "source": [
    "# EXAMPLE 4: include specific data\n",
    "# EXAMPLE 4.1 : include platform-specific data\n",
    "NEOVEXwrapper41 = get_query_wrapper()\n",
    "NEOVEXwrapper41.set_platform(['alt_news', 'legacy_news'])\n",
    "NEOVEXwrapper41.set_daterange('2020-08-01','2020-08-31')\n",
    "NEOVEXwrapper41.set_merge_platform_data(True)\n",
    "NEOVEXwrapper41.execute_query()"
   ]
  },
  {
   "cell_type": "code",
   "execution_count": null,
   "id": "2680cf60-6cdb-4f94-802f-6b67e539ec1b",
   "metadata": {},
   "outputs": [],
   "source": [
    "# EXAMPLE 4.2 : include label data\n",
    "NEOVEXwrapper42 = get_query_wrapper()\n",
    "NEOVEXwrapper42.set_label_inclusion(labels=[\"liwc\"])\n",
    "NEOVEXwrapper42.set_daterange('2020-08-01','2020-08-31')\n",
    "NEOVEXwrapper42.set_merge_label_data(True)\n",
    "NEOVEXwrapper42.execute_query()"
   ]
  },
  {
   "cell_type": "code",
   "execution_count": null,
   "id": "6ea1b9a2-232b-48c3-a3a7-ddabf01450ad",
   "metadata": {},
   "outputs": [],
   "source": []
  }
 ],
 "metadata": {
  "kernelspec": {
   "display_name": "Python 3 (ipykernel)",
   "language": "python",
   "name": "python3"
  },
  "language_info": {
   "codemirror_mode": {
    "name": "ipython",
    "version": 3
   },
   "file_extension": ".py",
   "mimetype": "text/x-python",
   "name": "python",
   "nbconvert_exporter": "python",
   "pygments_lexer": "ipython3",
   "version": "3.10.10"
  }
 },
 "nbformat": 4,
 "nbformat_minor": 5
}
