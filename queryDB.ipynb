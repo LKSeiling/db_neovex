{
 "cells": [
  {
   "cell_type": "code",
   "execution_count": null,
   "id": "0cdae1e2-a0fa-47dc-8de5-88e0e4dbce8d",
   "metadata": {},
   "outputs": [],
   "source": [
    "from decouple import Config, RepositoryEnv\n",
    "import psycopg2 as pg\n",
    "import pandas as pd"
   ]
  },
  {
   "cell_type": "code",
   "execution_count": null,
   "id": "9c89f1d6-2933-447f-abd8-5399a3ab9468",
   "metadata": {},
   "outputs": [],
   "source": [
    "config = Config(RepositoryEnv('./.env'))\n",
    "HOST = config.get('REMOTE_HOST')\n",
    "UNAME = config.get('UNAME')\n",
    "PW = config.get('PASSWORD')\n",
    "DB_NAME = config.get('DB_NAME')\n",
    "BASE_PATH = config.get('BASE_PATH')"
   ]
  },
  {
   "cell_type": "code",
   "execution_count": null,
   "id": "c5e6ee6d-e0b5-4b7a-9d94-a0bc95fb3e1d",
   "metadata": {},
   "outputs": [],
   "source": [
    "# get post counts per platform\n",
    "with pg.connect(\"host='{}' port={} dbname='{}' user={} password={}\".format(HOST, 5432, DB_NAME, UNAME, PW)) as conn:\n",
    "    sql_query = \"\"\"SELECT platform, COUNT(*) \n",
    "FROM content \n",
    "GROUP BY platform;\"\"\"\n",
    "    dat = pd.read_sql_query(sql_query, conn)"
   ]
  },
  {
   "cell_type": "code",
   "execution_count": null,
   "id": "0bf7257e-57e9-4216-9017-0d1fa27906a5",
   "metadata": {},
   "outputs": [],
   "source": [
    "dat"
   ]
  },
  {
   "cell_type": "code",
   "execution_count": null,
   "id": "38d83832-7ba5-4fd3-95f7-f4d9cdc79118",
   "metadata": {},
   "outputs": [],
   "source": []
  },
  {
   "cell_type": "code",
   "execution_count": null,
   "id": "f240ff83-8b8b-4494-8e37-436bd73fa5b4",
   "metadata": {},
   "outputs": [],
   "source": [
    "# get all alt_news posts for october\n",
    "with pg.connect(\"host='{}' port={} dbname='{}' user={} password={}\".format(HOST, 5432, DB_NAME, UNAME, PW)) as conn:\n",
    "    sql_query = \"\"\"SELECT *\n",
    "FROM content\n",
    "WHERE platform = 'alt_news'\n",
    "  AND date BETWEEN '2020-08-01' AND '2020-08-31';\n",
    "\"\"\"\n",
    "    dat = pd.read_sql_query(sql_query, conn)"
   ]
  },
  {
   "cell_type": "code",
   "execution_count": null,
   "id": "3c3fdea6-db64-4d51-88c9-39a1035d39e7",
   "metadata": {},
   "outputs": [],
   "source": [
    "dat"
   ]
  },
  {
   "cell_type": "code",
   "execution_count": null,
   "id": "a147a29a-d565-431a-aed8-2bf5714d78f2",
   "metadata": {},
   "outputs": [],
   "source": [
    "# new label\n",
    "\n",
    "# add liwc data to twitter (see sampled)\n",
    "\n",
    "## SQL Wrapper\n",
    "# label\n",
    "# platform\n",
    "# subplatform\n",
    "# string match\n",
    "# language\n",
    "# zeitraum\n",
    "# author \n",
    "\n",
    "## Functions\n",
    "# get dataframe\n",
    "# sum rows\n",
    "# aggreate: sum pro zeiteinheit\n",
    "\n",
    "\n",
    "# fake url für compact: titel + datum"
   ]
  }
 ],
 "metadata": {
  "kernelspec": {
   "display_name": "Python 3 (ipykernel)",
   "language": "python",
   "name": "python3"
  },
  "language_info": {
   "codemirror_mode": {
    "name": "ipython",
    "version": 3
   },
   "file_extension": ".py",
   "mimetype": "text/x-python",
   "name": "python",
   "nbconvert_exporter": "python",
   "pygments_lexer": "ipython3",
   "version": "3.10.10"
  }
 },
 "nbformat": 4,
 "nbformat_minor": 5
}
