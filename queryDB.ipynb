{
 "cells": [
  {
   "cell_type": "code",
   "execution_count": null,
   "id": "0cdae1e2-a0fa-47dc-8de5-88e0e4dbce8d",
   "metadata": {},
   "outputs": [],
   "source": [
    "from decouple import Config, RepositoryEnv\n",
    "import psycopg2 as pg\n",
    "import pandas as pd"
   ]
  },
  {
   "cell_type": "code",
   "execution_count": null,
   "id": "9c89f1d6-2933-447f-abd8-5399a3ab9468",
   "metadata": {},
   "outputs": [],
   "source": [
    "config = Config(RepositoryEnv('./.env'))\n",
    "HOST = config.get('REMOTE_HOST')\n",
    "UNAME = config.get('UNAME')\n",
    "PW = config.get('PASSWORD')\n",
    "DB_NAME = config.get('DB_NAME')\n",
    "BASE_PATH = config.get('BASE_PATH')"
   ]
  },
  {
   "cell_type": "code",
   "execution_count": null,
   "id": "f240ff83-8b8b-4494-8e37-436bd73fa5b4",
   "metadata": {},
   "outputs": [],
   "source": [
    "with psycopg2.connect(\"host='{}' port={} dbname='{}' user={} password={}\".format(HOST, 5432, DB_NAME, UNAME, PW)) as conn:\n",
    "    sql_quer = \"\"\"SELECT *\n",
    "FROM content\n",
    "WHERE platform = 'alt_news'\n",
    "  AND date BETWEEN '2020-08-01' AND '2020-08-31';\n",
    "\"\"\"\n",
    "    dat = pd.read_sql_query(sql, conn)"
   ]
  }
 ],
 "metadata": {
  "kernelspec": {
   "display_name": "Python 3 (ipykernel)",
   "language": "python",
   "name": "python3"
  },
  "language_info": {
   "codemirror_mode": {
    "name": "ipython",
    "version": 3
   },
   "file_extension": ".py",
   "mimetype": "text/x-python",
   "name": "python",
   "nbconvert_exporter": "python",
   "pygments_lexer": "ipython3",
   "version": "3.10.10"
  }
 },
 "nbformat": 4,
 "nbformat_minor": 5
}
