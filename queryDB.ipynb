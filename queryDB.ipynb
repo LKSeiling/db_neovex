{
 "cells": [
  {
   "cell_type": "code",
   "execution_count": null,
   "id": "0cdae1e2-a0fa-47dc-8de5-88e0e4dbce8d",
   "metadata": {},
   "outputs": [],
   "source": [
    "from decouple import Config, RepositoryEnv\n",
    "import psycopg2 as pg\n",
    "import pandas as pd"
   ]
  },
  {
   "cell_type": "code",
   "execution_count": null,
   "id": "9c89f1d6-2933-447f-abd8-5399a3ab9468",
   "metadata": {},
   "outputs": [],
   "source": [
    "config = Config(RepositoryEnv('./.env'))\n",
    "HOST = config.get('REMOTE_HOST')\n",
    "UNAME = config.get('UNAME')\n",
    "PW = config.get('PASSWORD')\n",
    "DB_NAME = config.get('DB_NAME')\n",
    "BASE_PATH = config.get('BASE_PATH')"
   ]
  },
  {
   "cell_type": "code",
   "execution_count": null,
   "id": "c5e6ee6d-e0b5-4b7a-9d94-a0bc95fb3e1d",
   "metadata": {},
   "outputs": [],
   "source": [
    "# get post counts per platform\n",
    "with pg.connect(\"host='{}' port={} dbname='{}' user={} password={}\".format(HOST, 5432, DB_NAME, UNAME, PW)) as conn:\n",
    "    sql_query = \"\"\"SELECT platform, COUNT(*) \n",
    "FROM content \n",
    "GROUP BY platform;\"\"\"\n",
    "    dat = pd.read_sql_query(sql_query, conn)"
   ]
  },
  {
   "cell_type": "code",
   "execution_count": null,
   "id": "0bf7257e-57e9-4216-9017-0d1fa27906a5",
   "metadata": {},
   "outputs": [],
   "source": [
    "dat"
   ]
  },
  {
   "cell_type": "code",
   "execution_count": 1,
   "id": "535a7760-ce47-456d-a35d-04cebdb7a1ad",
   "metadata": {},
   "outputs": [],
   "source": [
    "from src.query_neovex import get_query_wrapper"
   ]
  },
  {
   "cell_type": "code",
   "execution_count": null,
   "id": "f240ff83-8b8b-4494-8e37-436bd73fa5b4",
   "metadata": {},
   "outputs": [],
   "source": [
    "# EXAMPLE 1 : basic query\n",
    "# get all alternative and legacy news posts for august\n",
    "## OPTION 1: specify get_query_wrapper function\n",
    "NEOVEXwrapper11 = get_query_wrapper(platform=['alt_news', 'legacy_news'], daterange=('2020-08-01','2020-08-31'))\n",
    "dat11 = NEOVEXwrapper11.execute_query()\n",
    "\n",
    "## OPTION 2: specify using 'set_' methods\n",
    "NEOVEXwrapper12 = get_query_wrapper()\n",
    "NEOVEXwrapper12.set_platform(['alt_news', 'legacy_news'])\n",
    "NEOVEXwrapper12.set_daterange('2020-08-01','2020-08-31')\n",
    "dat12 = NEOVEXwrapper12.execute_query()"
   ]
  },
  {
   "cell_type": "code",
   "execution_count": null,
   "id": "c9a12411-0bee-4d32-86c6-e128db78d4b7",
   "metadata": {},
   "outputs": [],
   "source": [
    "# EXAMPLE 2: aggregate query\n",
    "# EXAMPLE 2.1 : get post counts per platform\n",
    "NEOVEXwrapper2 = get_query_wrapper()\n",
    "dat21 = NEOVEXwrapper2.sum_rows(group_by=\"platform\")\n",
    "# EXAMPLE 2.2 : get post counts per platform and date\n",
    "dat22 = NEOVEXwrapper2.sum_rows(group_by=[\"platform\",\"date\"])"
   ]
  },
  {
   "cell_type": "code",
   "execution_count": 2,
   "id": "bf18d93a-017e-42bb-8624-eb4b6e7967f7",
   "metadata": {},
   "outputs": [],
   "source": []
  },
  {
   "cell_type": "code",
   "execution_count": 3,
   "id": "ecb41d6e-b6e8-48f2-bcf6-81538f8d69bd",
   "metadata": {},
   "outputs": [
    {
     "data": {
      "text/html": [
       "<div>\n",
       "<style scoped>\n",
       "    .dataframe tbody tr th:only-of-type {\n",
       "        vertical-align: middle;\n",
       "    }\n",
       "\n",
       "    .dataframe tbody tr th {\n",
       "        vertical-align: top;\n",
       "    }\n",
       "\n",
       "    .dataframe thead th {\n",
       "        text-align: right;\n",
       "    }\n",
       "</style>\n",
       "<table border=\"1\" class=\"dataframe\">\n",
       "  <thead>\n",
       "    <tr style=\"text-align: right;\">\n",
       "      <th></th>\n",
       "      <th>platform</th>\n",
       "      <th>date</th>\n",
       "      <th>count</th>\n",
       "    </tr>\n",
       "  </thead>\n",
       "  <tbody>\n",
       "    <tr>\n",
       "      <th>0</th>\n",
       "      <td>alt_news</td>\n",
       "      <td>2010-06-29</td>\n",
       "      <td>1</td>\n",
       "    </tr>\n",
       "    <tr>\n",
       "      <th>1</th>\n",
       "      <td>alt_news</td>\n",
       "      <td>2011-01-01</td>\n",
       "      <td>1</td>\n",
       "    </tr>\n",
       "    <tr>\n",
       "      <th>2</th>\n",
       "      <td>alt_news</td>\n",
       "      <td>2011-01-03</td>\n",
       "      <td>2</td>\n",
       "    </tr>\n",
       "    <tr>\n",
       "      <th>3</th>\n",
       "      <td>alt_news</td>\n",
       "      <td>2011-01-04</td>\n",
       "      <td>2</td>\n",
       "    </tr>\n",
       "    <tr>\n",
       "      <th>4</th>\n",
       "      <td>alt_news</td>\n",
       "      <td>2011-01-05</td>\n",
       "      <td>2</td>\n",
       "    </tr>\n",
       "    <tr>\n",
       "      <th>...</th>\n",
       "      <td>...</td>\n",
       "      <td>...</td>\n",
       "      <td>...</td>\n",
       "    </tr>\n",
       "    <tr>\n",
       "      <th>19208</th>\n",
       "      <td>twitter</td>\n",
       "      <td>2021-12-28</td>\n",
       "      <td>589</td>\n",
       "    </tr>\n",
       "    <tr>\n",
       "      <th>19209</th>\n",
       "      <td>twitter</td>\n",
       "      <td>2021-12-29</td>\n",
       "      <td>638</td>\n",
       "    </tr>\n",
       "    <tr>\n",
       "      <th>19210</th>\n",
       "      <td>twitter</td>\n",
       "      <td>2021-12-30</td>\n",
       "      <td>677</td>\n",
       "    </tr>\n",
       "    <tr>\n",
       "      <th>19211</th>\n",
       "      <td>twitter</td>\n",
       "      <td>2021-12-31</td>\n",
       "      <td>597</td>\n",
       "    </tr>\n",
       "    <tr>\n",
       "      <th>19212</th>\n",
       "      <td>twitter</td>\n",
       "      <td>2022-01-01</td>\n",
       "      <td>175</td>\n",
       "    </tr>\n",
       "  </tbody>\n",
       "</table>\n",
       "<p>19213 rows × 3 columns</p>\n",
       "</div>"
      ],
      "text/plain": [
       "       platform        date  count\n",
       "0      alt_news  2010-06-29      1\n",
       "1      alt_news  2011-01-01      1\n",
       "2      alt_news  2011-01-03      2\n",
       "3      alt_news  2011-01-04      2\n",
       "4      alt_news  2011-01-05      2\n",
       "...         ...         ...    ...\n",
       "19208   twitter  2021-12-28    589\n",
       "19209   twitter  2021-12-29    638\n",
       "19210   twitter  2021-12-30    677\n",
       "19211   twitter  2021-12-31    597\n",
       "19212   twitter  2022-01-01    175\n",
       "\n",
       "[19213 rows x 3 columns]"
      ]
     },
     "execution_count": 3,
     "metadata": {},
     "output_type": "execute_result"
    }
   ],
   "source": [
    "dat3"
   ]
  },
  {
   "cell_type": "code",
   "execution_count": null,
   "id": "dcae51f4-c76f-4880-9e31-0e582c046339",
   "metadata": {},
   "outputs": [],
   "source": [
    "# label (inclusion/exclusion), platform, subplatform, string match, language, zeitraum, author\n",
    "# get dataframe, sum rows, sum per time unit"
   ]
  },
  {
   "cell_type": "code",
   "execution_count": null,
   "id": "a09a1034-d9e0-41b3-a1f7-38b3929171ea",
   "metadata": {},
   "outputs": [],
   "source": [
    "NEOVEXwrapper = get_query_wrapper()"
   ]
  },
  {
   "cell_type": "code",
   "execution_count": null,
   "id": "bfda2c6f-0d23-4509-84a7-2dac35f43891",
   "metadata": {},
   "outputs": [],
   "source": [
    "NEOVEXwrapper.set_platform('alt_news')\n",
    "NEOVEXwrapper.set_language('eng')\n",
    "NEOVEXwrapper.set_daterange('2020-08-01','2020-08-31')\n",
    "NEOVEXwrapper.get_criteria()\n",
    "# results = db_wrapper.execute_query()\n",
    "# print(results)\n",
    "# total_rows = db_wrapper.sum_rows()\n",
    "# print(total_rows)\n",
    "# monthly_aggregation = db_wrapper.sum_per_time_unit('MONTH')\n",
    "# print(monthly_aggregation)\n",
    "# db_wrapper.close()\n"
   ]
  },
  {
   "cell_type": "code",
   "execution_count": null,
   "id": "824d7d42-b324-49d2-b465-8836bb362294",
   "metadata": {},
   "outputs": [],
   "source": [
    "NEOVEXwrapper.execute_query()"
   ]
  },
  {
   "cell_type": "code",
   "execution_count": null,
   "id": "2680cf60-6cdb-4f94-802f-6b67e539ec1b",
   "metadata": {},
   "outputs": [],
   "source": []
  },
  {
   "cell_type": "code",
   "execution_count": null,
   "id": "1bd87787-e4b7-4183-bcc0-07d8d1db74a2",
   "metadata": {},
   "outputs": [],
   "source": []
  }
 ],
 "metadata": {
  "kernelspec": {
   "display_name": "Python 3 (ipykernel)",
   "language": "python",
   "name": "python3"
  },
  "language_info": {
   "codemirror_mode": {
    "name": "ipython",
    "version": 3
   },
   "file_extension": ".py",
   "mimetype": "text/x-python",
   "name": "python",
   "nbconvert_exporter": "python",
   "pygments_lexer": "ipython3",
   "version": "3.10.10"
  }
 },
 "nbformat": 4,
 "nbformat_minor": 5
}
