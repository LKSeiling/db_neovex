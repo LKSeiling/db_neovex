{
 "cells": [
  {
   "cell_type": "code",
   "execution_count": 1,
   "id": "0cdae1e2-a0fa-47dc-8de5-88e0e4dbce8d",
   "metadata": {},
   "outputs": [],
   "source": [
    "from decouple import Config, RepositoryEnv\n",
    "import psycopg2 as pg\n",
    "import pandas as pd\n"
   ]
  },
  {
   "cell_type": "code",
   "execution_count": 2,
   "id": "9c89f1d6-2933-447f-abd8-5399a3ab9468",
   "metadata": {},
   "outputs": [],
   "source": [
    "config = Config(RepositoryEnv('./.env'))\n",
    "HOST = config.get('REMOTE_HOST')\n",
    "UNAME = config.get('UNAME')\n",
    "PW = config.get('PASSWORD')\n",
    "DB_NAME = config.get('DB_NAME')\n",
    "BASE_PATH = config.get('BASE_PATH')"
   ]
  },
  {
   "cell_type": "code",
   "execution_count": null,
   "id": "4005adb9-7270-4f09-93ff-1833207c76c8",
   "metadata": {},
   "outputs": [],
   "source": [
    "from src.query_neovex import get_query_wrapper"
   ]
  },
  {
   "cell_type": "code",
   "execution_count": null,
   "id": "163023c2",
   "metadata": {},
   "outputs": [],
   "source": [
    "NEOVEXwrapper = get_query_wrapper() # initialise the database wrapper\n",
    "# specfiy your query (see queryDB_examples.ipynb or the Wiki for options)\n",
    "NEOVEXwrapper.execute_query() # execute the query"
   ]
  }
 ],
 "metadata": {
  "kernelspec": {
   "display_name": "Python 3 (ipykernel)",
   "language": "python",
   "name": "python3"
  },
  "language_info": {
   "codemirror_mode": {
    "name": "ipython",
    "version": 3
   },
   "file_extension": ".py",
   "mimetype": "text/x-python",
   "name": "python",
   "nbconvert_exporter": "python",
   "pygments_lexer": "ipython3",
   "version": "3.10.10"
  }
 },
 "nbformat": 4,
 "nbformat_minor": 5
}
