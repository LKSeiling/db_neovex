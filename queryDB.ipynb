{
 "cells": [
  {
   "cell_type": "code",
   "execution_count": 1,
   "id": "0cdae1e2-a0fa-47dc-8de5-88e0e4dbce8d",
   "metadata": {},
   "outputs": [],
   "source": [
    "from decouple import Config, RepositoryEnv\n",
    "import psycopg2 as pg\n",
    "import pandas as pd\n"
   ]
  },
  {
   "cell_type": "code",
   "execution_count": 2,
   "id": "9c89f1d6-2933-447f-abd8-5399a3ab9468",
   "metadata": {},
   "outputs": [],
   "source": [
    "config = Config(RepositoryEnv('./.env'))\n",
    "HOST = config.get('REMOTE_HOST')\n",
    "UNAME = config.get('UNAME')\n",
    "PW = config.get('PASSWORD')\n",
    "DB_NAME = config.get('DB_NAME')\n",
    "BASE_PATH = config.get('BASE_PATH')"
   ]
  },
  {
   "cell_type": "code",
   "execution_count": 12,
   "id": "c5e6ee6d-e0b5-4b7a-9d94-a0bc95fb3e1d",
   "metadata": {},
   "outputs": [
    {
     "name": "stderr",
     "output_type": "stream",
     "text": [
      "/tmp/ipykernel_13799/988444388.py:16: UserWarning: pandas only supports SQLAlchemy connectable (engine/connection) or database string URI or sqlite3 DBAPI2 connection. Other DBAPI2 objects are not tested. Please consider using SQLAlchemy.\n",
      "  dat = pd.read_sql_query(sql_query, conn)\n"
     ]
    }
   ],
   "source": [
    "# get post counts per platform\n",
    "with pg.connect(\"host='{}' port={} dbname='{}' user={} password={}\".format(HOST, 5432, DB_NAME, UNAME, PW)) as conn:\n",
    "    sql_query = \"\"\"SELECT \n",
    "    date, \n",
    "    platform,\n",
    "    COUNT(label_liwc) AS count_liwc,\n",
    "    COUNT(label_consp) AS count_consp\n",
    "FROM \n",
    "    content\n",
    "GROUP BY \n",
    "    date, \n",
    "    platform\n",
    "ORDER BY \n",
    "    date, \n",
    "    platform;\"\"\"\n",
    "    dat = pd.read_sql_query(sql_query, conn)"
   ]
  },
  {
   "cell_type": "code",
   "execution_count": 13,
   "id": "0bf7257e-57e9-4216-9017-0d1fa27906a5",
   "metadata": {},
   "outputs": [
    {
     "data": {
      "text/html": [
       "<div>\n",
       "<style scoped>\n",
       "    .dataframe tbody tr th:only-of-type {\n",
       "        vertical-align: middle;\n",
       "    }\n",
       "\n",
       "    .dataframe tbody tr th {\n",
       "        vertical-align: top;\n",
       "    }\n",
       "\n",
       "    .dataframe thead th {\n",
       "        text-align: right;\n",
       "    }\n",
       "</style>\n",
       "<table border=\"1\" class=\"dataframe\">\n",
       "  <thead>\n",
       "    <tr style=\"text-align: right;\">\n",
       "      <th></th>\n",
       "      <th>date</th>\n",
       "      <th>platform</th>\n",
       "      <th>count_liwc</th>\n",
       "      <th>count_consp</th>\n",
       "    </tr>\n",
       "  </thead>\n",
       "  <tbody>\n",
       "    <tr>\n",
       "      <th>0</th>\n",
       "      <td>2011-01-01</td>\n",
       "      <td>legacy_news</td>\n",
       "      <td>0</td>\n",
       "      <td>4</td>\n",
       "    </tr>\n",
       "    <tr>\n",
       "      <th>1</th>\n",
       "      <td>2011-01-01</td>\n",
       "      <td>twitter</td>\n",
       "      <td>0</td>\n",
       "      <td>427</td>\n",
       "    </tr>\n",
       "    <tr>\n",
       "      <th>2</th>\n",
       "      <td>2011-01-02</td>\n",
       "      <td>legacy_news</td>\n",
       "      <td>0</td>\n",
       "      <td>6</td>\n",
       "    </tr>\n",
       "    <tr>\n",
       "      <th>3</th>\n",
       "      <td>2011-01-02</td>\n",
       "      <td>twitter</td>\n",
       "      <td>0</td>\n",
       "      <td>611</td>\n",
       "    </tr>\n",
       "    <tr>\n",
       "      <th>4</th>\n",
       "      <td>2011-01-03</td>\n",
       "      <td>legacy_news</td>\n",
       "      <td>0</td>\n",
       "      <td>32</td>\n",
       "    </tr>\n",
       "    <tr>\n",
       "      <th>...</th>\n",
       "      <td>...</td>\n",
       "      <td>...</td>\n",
       "      <td>...</td>\n",
       "      <td>...</td>\n",
       "    </tr>\n",
       "    <tr>\n",
       "      <th>10987</th>\n",
       "      <td>2021-12-30</td>\n",
       "      <td>twitter</td>\n",
       "      <td>0</td>\n",
       "      <td>677</td>\n",
       "    </tr>\n",
       "    <tr>\n",
       "      <th>10988</th>\n",
       "      <td>2021-12-31</td>\n",
       "      <td>legacy_news</td>\n",
       "      <td>0</td>\n",
       "      <td>22</td>\n",
       "    </tr>\n",
       "    <tr>\n",
       "      <th>10989</th>\n",
       "      <td>2021-12-31</td>\n",
       "      <td>4chan</td>\n",
       "      <td>0</td>\n",
       "      <td>1860</td>\n",
       "    </tr>\n",
       "    <tr>\n",
       "      <th>10990</th>\n",
       "      <td>2021-12-31</td>\n",
       "      <td>twitter</td>\n",
       "      <td>0</td>\n",
       "      <td>597</td>\n",
       "    </tr>\n",
       "    <tr>\n",
       "      <th>10991</th>\n",
       "      <td>2022-01-01</td>\n",
       "      <td>twitter</td>\n",
       "      <td>0</td>\n",
       "      <td>175</td>\n",
       "    </tr>\n",
       "  </tbody>\n",
       "</table>\n",
       "<p>10992 rows × 4 columns</p>\n",
       "</div>"
      ],
      "text/plain": [
       "             date     platform  count_liwc  count_consp\n",
       "0      2011-01-01  legacy_news           0            4\n",
       "1      2011-01-01      twitter           0          427\n",
       "2      2011-01-02  legacy_news           0            6\n",
       "3      2011-01-02      twitter           0          611\n",
       "4      2011-01-03  legacy_news           0           32\n",
       "...           ...          ...         ...          ...\n",
       "10987  2021-12-30      twitter           0          677\n",
       "10988  2021-12-31  legacy_news           0           22\n",
       "10989  2021-12-31        4chan           0         1860\n",
       "10990  2021-12-31      twitter           0          597\n",
       "10991  2022-01-01      twitter           0          175\n",
       "\n",
       "[10992 rows x 4 columns]"
      ]
     },
     "execution_count": 13,
     "metadata": {},
     "output_type": "execute_result"
    }
   ],
   "source": [
    "dat"
   ]
  },
  {
   "cell_type": "code",
   "execution_count": 14,
   "id": "38d83832-7ba5-4fd3-95f7-f4d9cdc79118",
   "metadata": {},
   "outputs": [],
   "source": []
  },
  {
   "cell_type": "code",
   "execution_count": null,
   "id": "f240ff83-8b8b-4494-8e37-436bd73fa5b4",
   "metadata": {},
   "outputs": [],
   "source": [
    "# get all alt_news posts for october\n",
    "with pg.connect(\"host='{}' port={} dbname='{}' user={} password={}\".format(HOST, 5432, DB_NAME, UNAME, PW)) as conn:\n",
    "    sql_query = \"\"\"SELECT *\n",
    "FROM content\n",
    "WHERE platform = 'alt_news'\n",
    "  AND date BETWEEN '2020-08-01' AND '2020-08-31';\n",
    "\"\"\"\n",
    "    dat = pd.read_sql_query(sql_query, conn)"
   ]
  },
  {
   "cell_type": "code",
   "execution_count": null,
   "id": "3c3fdea6-db64-4d51-88c9-39a1035d39e7",
   "metadata": {},
   "outputs": [],
   "source": [
    "dat"
   ]
  },
  {
   "cell_type": "code",
   "execution_count": null,
   "id": "a147a29a-d565-431a-aed8-2bf5714d78f2",
   "metadata": {},
   "outputs": [],
   "source": []
  }
 ],
 "metadata": {
  "kernelspec": {
   "display_name": "Python 3 (ipykernel)",
   "language": "python",
   "name": "python3"
  },
  "language_info": {
   "codemirror_mode": {
    "name": "ipython",
    "version": 3
   },
   "file_extension": ".py",
   "mimetype": "text/x-python",
   "name": "python",
   "nbconvert_exporter": "python",
   "pygments_lexer": "ipython3",
   "version": "3.10.10"
  }
 },
 "nbformat": 4,
 "nbformat_minor": 5
}
